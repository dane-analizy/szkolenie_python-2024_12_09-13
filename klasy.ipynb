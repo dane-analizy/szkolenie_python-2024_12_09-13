{
 "cells": [
  {
   "cell_type": "code",
   "execution_count": 1,
   "metadata": {},
   "outputs": [],
   "source": [
    "a = 1"
   ]
  },
  {
   "cell_type": "code",
   "execution_count": 2,
   "metadata": {},
   "outputs": [
    {
     "name": "stdout",
     "output_type": "stream",
     "text": [
      "1\n"
     ]
    }
   ],
   "source": [
    "print(a)"
   ]
  },
  {
   "cell_type": "code",
   "execution_count": 3,
   "metadata": {},
   "outputs": [
    {
     "data": {
      "text/plain": [
       "1"
      ]
     },
     "execution_count": 3,
     "metadata": {},
     "output_type": "execute_result"
    }
   ],
   "source": [
    "a"
   ]
  },
  {
   "cell_type": "code",
   "execution_count": 4,
   "metadata": {},
   "outputs": [],
   "source": [
    "d = {\"imie\":\"Łukasz\", \"nazwisko\":\"Prokulski\", \"wiek\":46}"
   ]
  },
  {
   "cell_type": "code",
   "execution_count": 5,
   "metadata": {},
   "outputs": [
    {
     "data": {
      "text/plain": [
       "{'imie': 'Łukasz', 'nazwisko': 'Prokulski', 'wiek': 46}"
      ]
     },
     "execution_count": 5,
     "metadata": {},
     "output_type": "execute_result"
    }
   ],
   "source": [
    "d"
   ]
  },
  {
   "cell_type": "code",
   "execution_count": 6,
   "metadata": {},
   "outputs": [
    {
     "data": {
      "text/plain": [
       "2"
      ]
     },
     "execution_count": 6,
     "metadata": {},
     "output_type": "execute_result"
    }
   ],
   "source": [
    "a = a + 1 \n",
    "\n",
    "a"
   ]
  },
  {
   "cell_type": "markdown",
   "metadata": {},
   "source": [
    "## Klasy"
   ]
  },
  {
   "cell_type": "code",
   "execution_count": 7,
   "metadata": {},
   "outputs": [],
   "source": [
    "class Zwierze:\n",
    "    gatunek = None\n",
    "    kolor = None\n",
    "    "
   ]
  },
  {
   "cell_type": "code",
   "execution_count": 8,
   "metadata": {},
   "outputs": [],
   "source": [
    "kot = Zwierze()"
   ]
  },
  {
   "cell_type": "code",
   "execution_count": 9,
   "metadata": {},
   "outputs": [
    {
     "data": {
      "text/plain": [
       "<__main__.Zwierze at 0x260f9929ea0>"
      ]
     },
     "execution_count": 9,
     "metadata": {},
     "output_type": "execute_result"
    }
   ],
   "source": [
    "kot"
   ]
  },
  {
   "cell_type": "code",
   "execution_count": 10,
   "metadata": {},
   "outputs": [],
   "source": [
    "kot.gatunek = \"kot\"\n",
    "kot.kolor = \"rudy\""
   ]
  },
  {
   "cell_type": "code",
   "execution_count": 11,
   "metadata": {},
   "outputs": [
    {
     "data": {
      "text/plain": [
       "<__main__.Zwierze at 0x260f9929ea0>"
      ]
     },
     "execution_count": 11,
     "metadata": {},
     "output_type": "execute_result"
    }
   ],
   "source": [
    "kot"
   ]
  },
  {
   "cell_type": "code",
   "execution_count": 12,
   "metadata": {},
   "outputs": [
    {
     "data": {
      "text/plain": [
       "'kot'"
      ]
     },
     "execution_count": 12,
     "metadata": {},
     "output_type": "execute_result"
    }
   ],
   "source": [
    "kot.gatunek"
   ]
  },
  {
   "cell_type": "code",
   "execution_count": 13,
   "metadata": {},
   "outputs": [
    {
     "data": {
      "text/plain": [
       "<__main__.Zwierze at 0x260f9a0a050>"
      ]
     },
     "execution_count": 13,
     "metadata": {},
     "output_type": "execute_result"
    }
   ],
   "source": [
    "pies = Zwierze()\n",
    "pies.kolor = \"biały\"\n",
    "pies.gatunek = \"pies\"\n",
    "\n",
    "pies"
   ]
  },
  {
   "cell_type": "code",
   "execution_count": 14,
   "metadata": {},
   "outputs": [
    {
     "data": {
      "text/plain": [
       "'pies'"
      ]
     },
     "execution_count": 14,
     "metadata": {},
     "output_type": "execute_result"
    }
   ],
   "source": [
    "pies.gatunek"
   ]
  },
  {
   "cell_type": "code",
   "execution_count": 15,
   "metadata": {},
   "outputs": [
    {
     "name": "stdout",
     "output_type": "stream",
     "text": [
      "kot\n",
      "pies\n"
     ]
    }
   ],
   "source": [
    "zoo = [kot, pies]\n",
    "\n",
    "for z in zoo:\n",
    "    print(z.gatunek)"
   ]
  },
  {
   "cell_type": "code",
   "execution_count": 16,
   "metadata": {},
   "outputs": [],
   "source": [
    "class LepszeZwierze:\n",
    "    gatunek = None\n",
    "    kolor = None\n",
    "    \n",
    "    def daj_glos(self):\n",
    "        print(f\"jestem {self.gatunek} o kolorze {self.kolor}\")"
   ]
  },
  {
   "cell_type": "code",
   "execution_count": 17,
   "metadata": {},
   "outputs": [],
   "source": [
    "kot_20 = LepszeZwierze()\n",
    "kot_20.gatunek = \"lepszy kot\"\n",
    "kot_20.kolor = \"bury\"\n",
    "\n",
    "pies_20 = LepszeZwierze()\n",
    "pies_20.kolor = \"czarny\"\n",
    "pies_20.gatunek = \"lepszy pies\""
   ]
  },
  {
   "cell_type": "code",
   "execution_count": 20,
   "metadata": {},
   "outputs": [],
   "source": [
    "zoo.append(kot_20)\n",
    "zoo.append(pies_20)"
   ]
  },
  {
   "cell_type": "code",
   "execution_count": 21,
   "metadata": {},
   "outputs": [
    {
     "data": {
      "text/plain": [
       "[<__main__.Zwierze at 0x260f9929ea0>,\n",
       " <__main__.Zwierze at 0x260f9a0a050>,\n",
       " <__main__.LepszeZwierze at 0x260f9a08e80>,\n",
       " <__main__.LepszeZwierze at 0x260f9a0a980>,\n",
       " <__main__.LepszeZwierze at 0x260f9a08e80>,\n",
       " <__main__.LepszeZwierze at 0x260f9a0a980>]"
      ]
     },
     "execution_count": 21,
     "metadata": {},
     "output_type": "execute_result"
    }
   ],
   "source": [
    "zoo"
   ]
  },
  {
   "cell_type": "code",
   "execution_count": 22,
   "metadata": {},
   "outputs": [
    {
     "name": "stdout",
     "output_type": "stream",
     "text": [
      "kot rudy\n"
     ]
    },
    {
     "ename": "AttributeError",
     "evalue": "'Zwierze' object has no attribute 'daj_glos'",
     "output_type": "error",
     "traceback": [
      "\u001b[1;31m---------------------------------------------------------------------------\u001b[0m",
      "\u001b[1;31mAttributeError\u001b[0m                            Traceback (most recent call last)",
      "Cell \u001b[1;32mIn[22], line 3\u001b[0m\n\u001b[0;32m      1\u001b[0m \u001b[38;5;28;01mfor\u001b[39;00m z \u001b[38;5;129;01min\u001b[39;00m zoo:\n\u001b[0;32m      2\u001b[0m     \u001b[38;5;28mprint\u001b[39m(z\u001b[38;5;241m.\u001b[39mgatunek, z\u001b[38;5;241m.\u001b[39mkolor)\n\u001b[1;32m----> 3\u001b[0m     \u001b[43mz\u001b[49m\u001b[38;5;241;43m.\u001b[39;49m\u001b[43mdaj_glos\u001b[49m()\n",
      "\u001b[1;31mAttributeError\u001b[0m: 'Zwierze' object has no attribute 'daj_glos'"
     ]
    }
   ],
   "source": [
    "for z in zoo:\n",
    "    print(z.gatunek, z.kolor)\n",
    "    z.daj_glos()"
   ]
  },
  {
   "cell_type": "code",
   "execution_count": 24,
   "metadata": {},
   "outputs": [
    {
     "name": "stdout",
     "output_type": "stream",
     "text": [
      "kot rudy\n",
      "nie umiem gadać\n",
      "----------------------------------------\n",
      "pies biały\n",
      "nie umiem gadać\n",
      "----------------------------------------\n",
      "lepszy kot bury\n",
      "jestem lepszy kot o kolorze bury\n",
      "----------------------------------------\n",
      "lepszy pies czarny\n",
      "jestem lepszy pies o kolorze czarny\n",
      "----------------------------------------\n",
      "lepszy kot bury\n",
      "jestem lepszy kot o kolorze bury\n",
      "----------------------------------------\n",
      "lepszy pies czarny\n",
      "jestem lepszy pies o kolorze czarny\n",
      "----------------------------------------\n"
     ]
    }
   ],
   "source": [
    "for z in zoo:\n",
    "    print(z.gatunek, z.kolor)\n",
    "    if isinstance(z, LepszeZwierze):\n",
    "        z.daj_glos()\n",
    "    else:\n",
    "        print(\"nie umiem gadać\")\n",
    "    print(\"-\"*40)\n"
   ]
  },
  {
   "cell_type": "code",
   "execution_count": 25,
   "metadata": {},
   "outputs": [],
   "source": [
    "class Auto:\n",
    "    def __init__(self, marka, model):\n",
    "        self.marka = marka\n",
    "        self.model = model\n",
    "        self.tryb_jazdy = \"stoję\"\n",
    "        self.kierunek = \"\"\n",
    "\n",
    "    def jedz(self, kierunek=\"do przodu\"):\n",
    "        self.tryb_jazdy = \"jadę\"\n",
    "        self.kierunek = kierunek\n",
    "        \n",
    "    def lewo(self):\n",
    "        self.tryb_jazdy = \"jadę\"\n",
    "        self.kierunek = \"w lewo\"\n",
    "\n",
    "    def prawo(self):\n",
    "        self.tryb_jazdy = \"jadę\"\n",
    "        self.kierunek = \"w prawo\"\n",
    "        \n",
    "    def stoj(self):\n",
    "        self.tryb_jazdy = \"stoję\"\n",
    "        self.kierunek = \"\"\n",
    "    \n",
    "    def info(self):\n",
    "        stan = f\"Jestem auto marki {self.marka}, model {self.model} i teraz {self.tryb_jazdy} {self.kierunek}\"\n",
    "        return stan\n"
   ]
  },
  {
   "cell_type": "code",
   "execution_count": 26,
   "metadata": {},
   "outputs": [],
   "source": [
    "a1 = Auto(\"Fiat\", \"Panda\")\n",
    "a2 = Auto(\"Skoda\", \"Fabia\")\n"
   ]
  },
  {
   "cell_type": "code",
   "execution_count": 27,
   "metadata": {},
   "outputs": [
    {
     "data": {
      "text/plain": [
       "'Jestem auto marki Fiat, model Panda i teraz stoję '"
      ]
     },
     "execution_count": 27,
     "metadata": {},
     "output_type": "execute_result"
    }
   ],
   "source": [
    "a1.info()"
   ]
  },
  {
   "cell_type": "code",
   "execution_count": 28,
   "metadata": {},
   "outputs": [],
   "source": [
    "a2.jedz(\"do tyłu\")"
   ]
  },
  {
   "cell_type": "code",
   "execution_count": 29,
   "metadata": {},
   "outputs": [
    {
     "data": {
      "text/plain": [
       "'Jestem auto marki Skoda, model Fabia i teraz jadę do tyłu'"
      ]
     },
     "execution_count": 29,
     "metadata": {},
     "output_type": "execute_result"
    }
   ],
   "source": [
    "a2.info()"
   ]
  },
  {
   "cell_type": "code",
   "execution_count": 30,
   "metadata": {},
   "outputs": [
    {
     "data": {
      "text/plain": [
       "'Jestem auto marki Fiat, model Panda i teraz jadę w lewo'"
      ]
     },
     "execution_count": 30,
     "metadata": {},
     "output_type": "execute_result"
    }
   ],
   "source": [
    "a1.lewo()\n",
    "a1.info()"
   ]
  }
 ],
 "metadata": {
  "kernelspec": {
   "display_name": "Python 3",
   "language": "python",
   "name": "python3"
  },
  "language_info": {
   "codemirror_mode": {
    "name": "ipython",
    "version": 3
   },
   "file_extension": ".py",
   "mimetype": "text/x-python",
   "name": "python",
   "nbconvert_exporter": "python",
   "pygments_lexer": "ipython3",
   "version": "3.10.7"
  }
 },
 "nbformat": 4,
 "nbformat_minor": 2
}
